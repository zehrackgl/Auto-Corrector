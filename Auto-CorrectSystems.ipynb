{
 "cells": [
  {
   "cell_type": "markdown",
   "id": "65b87f5d-2bf3-48e4-832c-4c5b0f6e1b90",
   "metadata": {},
   "source": [
    "# Auto-Correct Systems"
   ]
  },
  {
   "cell_type": "code",
   "execution_count": 1,
   "id": "6787ee8b-c167-40a6-be53-5699dea2975f",
   "metadata": {
    "tags": []
   },
   "outputs": [],
   "source": [
    "import os\n",
    "import re\n",
    "import numpy as np \n",
    "import pandas as pd \n",
    "from collections import Counter\n",
    "import nltk"
   ]
  },
  {
   "cell_type": "markdown",
   "id": "f2c77483-08e8-49ab-8c7b-036cb6f51298",
   "metadata": {},
   "source": [
    "#### Step1: read file"
   ]
  },
  {
   "cell_type": "code",
   "execution_count": 2,
   "id": "0921ccb2-4e40-4236-80d7-a4091dd29654",
   "metadata": {
    "tags": []
   },
   "outputs": [],
   "source": [
    "with open('Machine_learning_corpus.txt', 'r', encoding='ISO-8859-1') as f:\n",
    "    file = f.readlines()"
   ]
  },
  {
   "cell_type": "code",
   "execution_count": 3,
   "id": "e7acf332-fc83-4ab1-8fef-1dab45c84ca4",
   "metadata": {
    "tags": []
   },
   "outputs": [],
   "source": [
    "def read_file(lines):\n",
    "    \"\"\"\n",
    "    Input: \n",
    "        A file_name which is found in your current directory. You just have to read it in. \n",
    "    Output: \n",
    "        words: a list containing all the words in the corpus (text file you read) in lower case. \n",
    "    \"\"\"\n",
    "    words = []        \n",
    "    for line in lines:\n",
    "        line = line.strip().lower()\n",
    "        word = re.findall(r'\\w+', line)\n",
    "        words.extend(word)\n",
    "    \n",
    "    return words"
   ]
  },
  {
   "cell_type": "code",
   "execution_count": 4,
   "id": "93ea79f5-c72f-49be-9792-d091db25c26c",
   "metadata": {
    "tags": []
   },
   "outputs": [
    {
     "name": "stdout",
     "output_type": "stream",
     "text": [
      "The first ten words in the text are: \n",
      "['study', 'of', 'algorithms', 'that', 'improve', 'automatically', 'through', 'experience', 'for', 'the']\n",
      "There are 4108 unique words in the vocabulary.\n"
     ]
    }
   ],
   "source": [
    "word_list = read_file(file)\n",
    "vocab = set(word_list)\n",
    "print(f\"The first ten words in the text are: \\n{word_list[0:10]}\")\n",
    "print(f\"There are {len(vocab)} unique words in the vocabulary.\")"
   ]
  },
  {
   "cell_type": "markdown",
   "id": "f78eeb72-68e3-4f8c-ba00-01877fbffe54",
   "metadata": {
    "tags": []
   },
   "source": [
    "#### Step2: Filter Misspelled Words\n"
   ]
  },
  {
   "cell_type": "code",
   "execution_count": 5,
   "id": "aaed2532-acb8-4787-8c50-f11ee9eb3030",
   "metadata": {
    "tags": []
   },
   "outputs": [],
   "source": [
    "def find_wrong_word(sent, vocab):\n",
    "    wrong_words = []\n",
    "    sent = sent.strip().lower().split(\" \")\n",
    "    for word in sent:\n",
    "        if word not in vocab:\n",
    "            wrong_words.append(word)\n",
    "    return wrong_words"
   ]
  },
  {
   "cell_type": "code",
   "execution_count": 6,
   "id": "2d848df1-a6cb-4a8e-b19c-3f5d0abf8e71",
   "metadata": {
    "tags": []
   },
   "outputs": [
    {
     "data": {
      "text/plain": [
       "['goinng']"
      ]
     },
     "execution_count": 6,
     "metadata": {},
     "output_type": "execute_result"
    }
   ],
   "source": [
    "find_wrong_word('he is goinng home', vocab)"
   ]
  },
  {
   "cell_type": "markdown",
   "id": "3d076ea5-2eb7-4c21-a60f-25a7b3b3a82f",
   "metadata": {},
   "source": [
    "#### Step3: Word Suggestion Mechanism\n",
    "We'll impliment separate functions of each of the steps (deletion, insertion, switching, replace) and then combine them to edit one or two letter of the original word."
   ]
  },
  {
   "cell_type": "code",
   "execution_count": 7,
   "id": "55a2f054-fbbb-437b-831e-a4be27adf850",
   "metadata": {
    "tags": []
   },
   "outputs": [],
   "source": [
    "def delete_letter(word, verbose=False):\n",
    "    '''\n",
    "    Input:\n",
    "        word: the string/word for which you will generate all possible words \n",
    "                in the vocabulary which have 1 missing character\n",
    "    Output:\n",
    "        delete_l: a list of all possible strings obtained by deleting 1 character from word\n",
    "    '''\n",
    "    \n",
    "    delete_l = []\n",
    "    split_l = []\n",
    "    split_l = [(word[:i], word[i:]) for i in range(len(word))]\n",
    "    delete_l = [s[0]+s[1][1:] for s in split_l]\n",
    "    if verbose: print(f\"input word : {word} \\nsplit_l = {split_l}, \\ndelete_l = {delete_l}\")\n",
    "\n",
    "    return delete_l"
   ]
  },
  {
   "cell_type": "code",
   "execution_count": 8,
   "id": "8ebb7de0-bbb4-4a96-b197-c1a042783cab",
   "metadata": {
    "tags": []
   },
   "outputs": [
    {
     "name": "stdout",
     "output_type": "stream",
     "text": [
      "input word : cans \n",
      "split_l = [('', 'cans'), ('c', 'ans'), ('ca', 'ns'), ('can', 's')], \n",
      "delete_l = ['ans', 'cns', 'cas', 'can']\n"
     ]
    }
   ],
   "source": [
    "delete_word_l = delete_letter(word=\"cans\",\n",
    "                        verbose=True)"
   ]
  },
  {
   "cell_type": "code",
   "execution_count": 9,
   "id": "f9f56675-8ec5-4094-b24c-02250c5923f2",
   "metadata": {
    "tags": []
   },
   "outputs": [],
   "source": [
    "def switch_letter(word, verbose=False):\n",
    "    '''\n",
    "    Input:\n",
    "        word: input string\n",
    "     Output:\n",
    "        switches: a list of all possible strings with one adjacent charater switched\n",
    "    ''' \n",
    "    \n",
    "    switch_l = []\n",
    "    split_l = []\n",
    "    split_l = [(word[:i], word[i:]) for i in range(len(word))]\n",
    "    for s in split_l:\n",
    "        if len(s[1])>2:\n",
    "            temp = s[0] + s[1][1] + s[1][0] + s[1][2:]\n",
    "        elif len(s[1]) == 2:\n",
    "            temp = s[0] + s[1][1] + s[1][0]\n",
    "        elif len(s[1]) == 1:\n",
    "            continue\n",
    "        switch_l.append(temp)\n",
    "    \n",
    "    if verbose: print(f\"Input word = {word} \\nsplit_l = {split_l} \\nswitch_l = {switch_l}\") \n",
    "\n",
    "    return switch_l"
   ]
  },
  {
   "cell_type": "code",
   "execution_count": 10,
   "id": "60174f50-efd4-40ea-8cf5-77ab5c9b767a",
   "metadata": {
    "tags": []
   },
   "outputs": [
    {
     "name": "stdout",
     "output_type": "stream",
     "text": [
      "Input word = eta \n",
      "split_l = [('', 'eta'), ('e', 'ta'), ('et', 'a')] \n",
      "switch_l = ['tea', 'eat']\n"
     ]
    }
   ],
   "source": [
    "switch_word_l = switch_letter(word=\"eta\",\n",
    "                         verbose=True)"
   ]
  },
  {
   "cell_type": "code",
   "execution_count": 11,
   "id": "6d536046-e180-4810-98da-aad3570dc860",
   "metadata": {
    "tags": []
   },
   "outputs": [],
   "source": [
    "def replace_letter(word, verbose=False):\n",
    "    '''\n",
    "    Input:\n",
    "        word: the input string/word \n",
    "    Output:\n",
    "        replaces: a list of all possible strings where we replaced one letter from the original word. \n",
    "    ''' \n",
    "    \n",
    "    letters = 'abcdefghijklmnopqrstuvwxyz'\n",
    "    replace_l = []\n",
    "    split_l = []\n",
    "    split_l = [(word[:i], word[i:]) for i in range(len(word))]\n",
    "    for s in split_l:\n",
    "        if len(s[1]) == 1:\n",
    "            for l in letters:\n",
    "                if l != s[1][0]:\n",
    "                    temp = l\n",
    "                    replace_l.append(s[0]+temp)\n",
    "        elif len(s) > 1:\n",
    "            for l in letters:\n",
    "                if l != s[1][0]:\n",
    "                    temp = l + s[1][1:]\n",
    "                    replace_l.append(s[0]+temp)\n",
    "        \n",
    "    replace_set = set(replace_l)\n",
    "    \n",
    "    # turn the set back into a list and sort it, for easier viewing\n",
    "    replace_l = sorted(list(replace_set))\n",
    "    \n",
    "    if verbose: print(f\"Input word = {word} \\nsplit_l = {split_l} \\nreplace_l {replace_l}\")   \n",
    "    \n",
    "    return replace_l"
   ]
  },
  {
   "cell_type": "code",
   "execution_count": 12,
   "id": "e92f4846-6855-4dc0-bdb4-dad19635407e",
   "metadata": {
    "tags": []
   },
   "outputs": [
    {
     "name": "stdout",
     "output_type": "stream",
     "text": [
      "Input word = can \n",
      "split_l = [('', 'can'), ('c', 'an'), ('ca', 'n')] \n",
      "replace_l ['aan', 'ban', 'caa', 'cab', 'cac', 'cad', 'cae', 'caf', 'cag', 'cah', 'cai', 'caj', 'cak', 'cal', 'cam', 'cao', 'cap', 'caq', 'car', 'cas', 'cat', 'cau', 'cav', 'caw', 'cax', 'cay', 'caz', 'cbn', 'ccn', 'cdn', 'cen', 'cfn', 'cgn', 'chn', 'cin', 'cjn', 'ckn', 'cln', 'cmn', 'cnn', 'con', 'cpn', 'cqn', 'crn', 'csn', 'ctn', 'cun', 'cvn', 'cwn', 'cxn', 'cyn', 'czn', 'dan', 'ean', 'fan', 'gan', 'han', 'ian', 'jan', 'kan', 'lan', 'man', 'nan', 'oan', 'pan', 'qan', 'ran', 'san', 'tan', 'uan', 'van', 'wan', 'xan', 'yan', 'zan']\n"
     ]
    }
   ],
   "source": [
    "replace_l = replace_letter(word='can',\n",
    "                              verbose=True)"
   ]
  },
  {
   "cell_type": "code",
   "execution_count": 13,
   "id": "8895e5a8-a8d6-4b5f-960f-0c8e17e5069a",
   "metadata": {
    "tags": []
   },
   "outputs": [
    {
     "name": "stdout",
     "output_type": "stream",
     "text": [
      "Number of outputs of switch_letter('at') is 3\n"
     ]
    }
   ],
   "source": [
    "print(f\"Number of outputs of switch_letter('at') is {len(switch_letter('fate'))}\")"
   ]
  },
  {
   "cell_type": "code",
   "execution_count": 14,
   "id": "1eae0341-25ff-4e66-bc31-36df612dbb4c",
   "metadata": {
    "tags": []
   },
   "outputs": [],
   "source": [
    "def insert_letter(word, verbose=False):\n",
    "    '''\n",
    "    Input:\n",
    "        word: the input string/word \n",
    "    Output:\n",
    "        inserts: a set of all possible strings with one new letter inserted at every offset\n",
    "    ''' \n",
    "    letters = 'abcdefghijklmnopqrstuvwxyz'\n",
    "    insert_l = []\n",
    "    split_l = []\n",
    "    split_l = [(word[:i], word[i:]) for i in range(len(word)+1)]\n",
    "    for s in split_l:\n",
    "        for l in letters:\n",
    "            insert_l.append(s[0]+l+s[1])\n",
    "\n",
    "    if verbose: print(f\"Input word {word} \\nsplit_l = {split_l} \\ninsert_l = {insert_l}\")\n",
    "    \n",
    "    return insert_l"
   ]
  },
  {
   "cell_type": "code",
   "execution_count": 15,
   "id": "5ebe5977-a347-4c55-9d9f-1618f130f9ac",
   "metadata": {
    "tags": []
   },
   "outputs": [
    {
     "name": "stdout",
     "output_type": "stream",
     "text": [
      "Input word at \n",
      "split_l = [('', 'at'), ('a', 't'), ('at', '')] \n",
      "insert_l = ['aat', 'bat', 'cat', 'dat', 'eat', 'fat', 'gat', 'hat', 'iat', 'jat', 'kat', 'lat', 'mat', 'nat', 'oat', 'pat', 'qat', 'rat', 'sat', 'tat', 'uat', 'vat', 'wat', 'xat', 'yat', 'zat', 'aat', 'abt', 'act', 'adt', 'aet', 'aft', 'agt', 'aht', 'ait', 'ajt', 'akt', 'alt', 'amt', 'ant', 'aot', 'apt', 'aqt', 'art', 'ast', 'att', 'aut', 'avt', 'awt', 'axt', 'ayt', 'azt', 'ata', 'atb', 'atc', 'atd', 'ate', 'atf', 'atg', 'ath', 'ati', 'atj', 'atk', 'atl', 'atm', 'atn', 'ato', 'atp', 'atq', 'atr', 'ats', 'att', 'atu', 'atv', 'atw', 'atx', 'aty', 'atz']\n",
      "Number of strings output by insert_letter('at') is 78\n"
     ]
    }
   ],
   "source": [
    "insert_l = insert_letter('at', True)\n",
    "print(f\"Number of strings output by insert_letter('at') is {len(insert_l)}\")"
   ]
  },
  {
   "cell_type": "markdown",
   "id": "0f34ec8b-c6dc-47ec-a1ce-d430b2f38b4b",
   "metadata": {},
   "source": [
    "#### Let's combine these individual steps and impliment two function for for editing on or two characters from a word."
   ]
  },
  {
   "cell_type": "code",
   "execution_count": 16,
   "id": "8da41184-9603-474e-a075-bdee761516c2",
   "metadata": {
    "tags": []
   },
   "outputs": [],
   "source": [
    "def edit_one_letter(word, allow_switches = True):\n",
    "    \"\"\"\n",
    "    Input:\n",
    "        word: the string/word for which we will generate all possible wordsthat are one edit away.\n",
    "    Output:\n",
    "        edit_one_set: a set of words with one possible edit. Please return a set. and not a list.\n",
    "    \"\"\"\n",
    "    \n",
    "    edit_one_set = set()\n",
    "    insert_l = insert_letter(word)\n",
    "    delete_l = delete_letter(word)\n",
    "    replace_l = replace_letter(word)\n",
    "    switch_l = switch_letter(word)\n",
    "    \n",
    "    if allow_switches:\n",
    "        ans = insert_l + delete_l + replace_l + switch_l\n",
    "    else:\n",
    "        ans = insert_l + delete_l + replace_l\n",
    "        \n",
    "    edit_one_set = set(ans)\n",
    "\n",
    "    return edit_one_set"
   ]
  },
  {
   "cell_type": "code",
   "execution_count": 17,
   "id": "bc5636be-e645-4f22-b125-f27af2ccbcc5",
   "metadata": {
    "tags": []
   },
   "outputs": [
    {
     "name": "stdout",
     "output_type": "stream",
     "text": [
      "input word : at \n",
      "edit_one_l \n",
      "['a', 'aa', 'aat', 'ab', 'abt', 'ac', 'act', 'ad', 'adt', 'ae', 'aet', 'af', 'aft', 'ag', 'agt', 'ah', 'aht', 'ai', 'ait', 'aj', 'ajt', 'ak', 'akt', 'al', 'alt', 'am', 'amt', 'an', 'ant', 'ao', 'aot', 'ap', 'apt', 'aq', 'aqt', 'ar', 'art', 'as', 'ast', 'ata', 'atb', 'atc', 'atd', 'ate', 'atf', 'atg', 'ath', 'ati', 'atj', 'atk', 'atl', 'atm', 'atn', 'ato', 'atp', 'atq', 'atr', 'ats', 'att', 'atu', 'atv', 'atw', 'atx', 'aty', 'atz', 'au', 'aut', 'av', 'avt', 'aw', 'awt', 'ax', 'axt', 'ay', 'ayt', 'az', 'azt', 'bat', 'bt', 'cat', 'ct', 'dat', 'dt', 'eat', 'et', 'fat', 'ft', 'gat', 'gt', 'hat', 'ht', 'iat', 'it', 'jat', 'jt', 'kat', 'kt', 'lat', 'lt', 'mat', 'mt', 'nat', 'nt', 'oat', 'ot', 'pat', 'pt', 'qat', 'qt', 'rat', 'rt', 'sat', 'st', 't', 'ta', 'tat', 'tt', 'uat', 'ut', 'vat', 'vt', 'wat', 'wt', 'xat', 'xt', 'yat', 'yt', 'zat', 'zt']\n",
      "\n",
      "Number of outputs from edit_one_letter('at') is 129\n"
     ]
    }
   ],
   "source": [
    "tmp_word = \"at\"\n",
    "tmp_edit_one_set = edit_one_letter(tmp_word)\n",
    "# turn this into a list to sort it, in order to view it\n",
    "tmp_edit_one_l = sorted(list(tmp_edit_one_set))\n",
    "\n",
    "print(f\"input word : {tmp_word} \\nedit_one_l \\n{tmp_edit_one_l}\\n\")\n",
    "#print(f\"The type of the returned object should be a set {type(tmp_edit_one_set)}\")\n",
    "print(f\"Number of outputs from edit_one_letter('at') is {len(edit_one_letter('at'))}\")"
   ]
  },
  {
   "cell_type": "code",
   "execution_count": 18,
   "id": "dabb9b30-49ba-4f5b-95ed-5ece402ec8ff",
   "metadata": {
    "tags": []
   },
   "outputs": [],
   "source": [
    "def edit_two_letters(word, allow_switches = True):\n",
    "    '''\n",
    "    Input:\n",
    "        word: the input string/word \n",
    "    Output:\n",
    "        edit_two_set: a set of strings with all possible two edits\n",
    "    '''\n",
    "    \n",
    "    edit_two_set = set()\n",
    "    one_edit = edit_one_letter(word)\n",
    "    ans = []\n",
    "    for w in one_edit:\n",
    "        ans.append(w)\n",
    "        ans.extend(edit_one_letter(w))\n",
    "        \n",
    "    edit_two_set = set(ans)\n",
    "    \n",
    "    return edit_two_set"
   ]
  },
  {
   "cell_type": "code",
   "execution_count": 19,
   "id": "86b3d102-91b7-4a7d-984a-44d08ff2b0cd",
   "metadata": {
    "tags": []
   },
   "outputs": [
    {
     "name": "stdout",
     "output_type": "stream",
     "text": [
      "Number of strings with edit distance of two: 2654\n",
      "First 10 strings ['', 'a', 'aa', 'aaa', 'aab', 'aac', 'aad', 'aae', 'aaf', 'aag']\n",
      "Last 10 strings ['zv', 'zva', 'zw', 'zwa', 'zx', 'zxa', 'zy', 'zya', 'zz', 'zza']\n",
      "The data type of the returned object should be a set <class 'set'>\n",
      "Number of strings that are 2 edit distances from 'at' is 7154\n"
     ]
    }
   ],
   "source": [
    "tmp_edit_two_set = edit_two_letters(\"a\")\n",
    "tmp_edit_two_l = sorted(list(tmp_edit_two_set))\n",
    "print(f\"Number of strings with edit distance of two: {len(tmp_edit_two_l)}\")\n",
    "print(f\"First 10 strings {tmp_edit_two_l[:10]}\")\n",
    "print(f\"Last 10 strings {tmp_edit_two_l[-10:]}\")\n",
    "print(f\"The data type of the returned object should be a set {type(tmp_edit_two_set)}\")\n",
    "print(f\"Number of strings that are 2 edit distances from 'at' is {len(edit_two_letters('at'))}\")"
   ]
  },
  {
   "cell_type": "code",
   "execution_count": 20,
   "id": "c5fa38da-617f-4f36-93c2-ea12b7a262b9",
   "metadata": {
    "tags": []
   },
   "outputs": [],
   "source": [
    "def get_count(word_list):\n",
    "    '''\n",
    "    Input:\n",
    "        word_l: a set of words representing the corpus. \n",
    "    Output:\n",
    "        word_count_dict: The wordcount dictionary where key is the word and value is its frequency.\n",
    "    '''\n",
    "    word_count_dict = {}  \n",
    "    word_count_dict = Counter(word_list)\n",
    "    return word_count_dict"
   ]
  },
  {
   "cell_type": "code",
   "execution_count": 21,
   "id": "21b4cfc1-524a-4ba6-8b45-c9fb445b6b7b",
   "metadata": {
    "tags": []
   },
   "outputs": [
    {
     "name": "stdout",
     "output_type": "stream",
     "text": [
      "There are 4108 key values pairs\n",
      "The count for the word 'the' is 569\n"
     ]
    }
   ],
   "source": [
    "word_count_dict = get_count(word_list)\n",
    "print(f\"There are {len(word_count_dict)} key values pairs\")\n",
    "print(f\"The count for the word 'the' is {word_count_dict.get('the',0)}\")"
   ]
  },
  {
   "cell_type": "code",
   "execution_count": 22,
   "id": "55548e8d-9af8-475b-9d31-474bf601852c",
   "metadata": {
    "tags": []
   },
   "outputs": [],
   "source": [
    "def get_probs(word_count_dict):\n",
    "    '''\n",
    "    Input:\n",
    "        word_count_dict: The wordcount dictionary where key is the word and value is its frequency.\n",
    "    Output:\n",
    "        probs: A dictionary where keys are the words and the values are the probability that a word will occur. \n",
    "    '''\n",
    "    probs = {} \n",
    "    total = 1\n",
    "    for word in word_count_dict.keys():\n",
    "        total = total + word_count_dict[word]\n",
    "        \n",
    "    for word in word_count_dict.keys():\n",
    "        probs[word] = word_count_dict[word]/total\n",
    "    return probs"
   ]
  },
  {
   "cell_type": "code",
   "execution_count": 23,
   "id": "fd6b4cdf-c4a6-4661-9383-ab8a8c673c78",
   "metadata": {
    "tags": []
   },
   "outputs": [
    {
     "name": "stdout",
     "output_type": "stream",
     "text": [
      "Length of probs is 4108\n",
      "P('learning') is 0.0268\n"
     ]
    }
   ],
   "source": [
    "probs = get_probs(word_count_dict)\n",
    "print(f\"Length of probs is {len(probs)}\")\n",
    "print(f\"P('learning') is {probs['learning']:.4f}\")"
   ]
  },
  {
   "cell_type": "code",
   "execution_count": 24,
   "id": "5dfd8773-9043-47e4-8839-bb54b9047994",
   "metadata": {
    "tags": []
   },
   "outputs": [
    {
     "data": {
      "text/html": [
       "<div>\n",
       "<style scoped>\n",
       "    .dataframe tbody tr th:only-of-type {\n",
       "        vertical-align: middle;\n",
       "    }\n",
       "\n",
       "    .dataframe tbody tr th {\n",
       "        vertical-align: top;\n",
       "    }\n",
       "\n",
       "    .dataframe thead th {\n",
       "        text-align: right;\n",
       "    }\n",
       "</style>\n",
       "<table border=\"1\" class=\"dataframe\">\n",
       "  <thead>\n",
       "    <tr style=\"text-align: right;\">\n",
       "      <th></th>\n",
       "      <th>word</th>\n",
       "      <th>probability</th>\n",
       "    </tr>\n",
       "  </thead>\n",
       "  <tbody>\n",
       "    <tr>\n",
       "      <th>9</th>\n",
       "      <td>the</td>\n",
       "      <td>0.035282</td>\n",
       "    </tr>\n",
       "    <tr>\n",
       "      <th>13</th>\n",
       "      <td>learning</td>\n",
       "      <td>0.026849</td>\n",
       "    </tr>\n",
       "    <tr>\n",
       "      <th>1</th>\n",
       "      <td>of</td>\n",
       "      <td>0.022571</td>\n",
       "    </tr>\n",
       "    <tr>\n",
       "      <th>26</th>\n",
       "      <td>a</td>\n",
       "      <td>0.020463</td>\n",
       "    </tr>\n",
       "    <tr>\n",
       "      <th>12</th>\n",
       "      <td>machine</td>\n",
       "      <td>0.018292</td>\n",
       "    </tr>\n",
       "  </tbody>\n",
       "</table>\n",
       "</div>"
      ],
      "text/plain": [
       "        word  probability\n",
       "9        the     0.035282\n",
       "13  learning     0.026849\n",
       "1         of     0.022571\n",
       "26         a     0.020463\n",
       "12   machine     0.018292"
      ]
     },
     "execution_count": 24,
     "metadata": {},
     "output_type": "execute_result"
    }
   ],
   "source": [
    "prob_df = pd.DataFrame({'word':probs.keys(), 'probability':probs.values()}).sort_values(by='probability', ascending=False)\n",
    "prob_df.head()"
   ]
  },
  {
   "cell_type": "code",
   "execution_count": 25,
   "id": "2dd74e75-8df6-4d95-a109-5bdfd0f5b6d6",
   "metadata": {
    "tags": []
   },
   "outputs": [
    {
     "data": {
      "text/plain": [
       "<Axes: xlabel='word'>"
      ]
     },
     "execution_count": 25,
     "metadata": {},
     "output_type": "execute_result"
    },
    {
     "data": {
      "image/png": "[encoded data removed]",
      "text/plain": [
       "<Figure size 640x480 with 1 Axes>"
      ]
     },
     "metadata": {},
     "output_type": "display_data"
    }
   ],
   "source": [
    "prob_df.head().plot.bar(x='word', y='probability')"
   ]
  },
  {
   "cell_type": "markdown",
   "id": "a4b42ade-abb4-4ef3-b747-b9efb2a597cd",
   "metadata": {},
   "source": [
    "#### Step4: Implete N-Grams "
   ]
  },
  {
   "cell_type": "code",
   "execution_count": 26,
   "id": "13d124db-0678-4281-b9c6-6972f896bf3c",
   "metadata": {
    "tags": []
   },
   "outputs": [],
   "source": [
    "def count_n_grams(data, n, start_token='<s>', end_token = '<e>'):\n",
    "    \n",
    "    # Initialize dictionary of n-grams and their counts\n",
    "    n_grams = {}\n",
    "\n",
    "    \n",
    "    for sentence in data: \n",
    "        \n",
    "        # prepend start token n times, and  append <e> one time\n",
    "        sentence = [start_token]*n + sentence + [end_token]\n",
    "        sentence = tuple(sentence)\n",
    "        \n",
    "        for i in range(len(sentence)-n): \n",
    "            n_gram = sentence[i:i+n]\n",
    "            if n_gram in n_grams.keys():\n",
    "                n_grams[n_gram] += 1\n",
    "            else:\n",
    "                n_grams[n_gram] = 1\n",
    "    return n_grams"
   ]
  },
  {
   "cell_type": "code",
   "execution_count": 27,
   "id": "88cfe100-b806-4213-bdc6-19e41808439b",
   "metadata": {
    "tags": []
   },
   "outputs": [],
   "source": [
    "### SOME UTILITY\n",
    "\n",
    "def split_to_sentences(data):\n",
    "    #sentences = data.split(\"\\n\")\n",
    "    sentences = [s.strip() for s in data]\n",
    "    sentences = [s for s in sentences if len(s) > 0]\n",
    "    return sentences    \n",
    "\n",
    "def tokenize_sentences(sentences):\n",
    "    tokenized_sentences = []\n",
    "    for sentence in sentences:\n",
    "        sentence = sentence.lower()\n",
    "        tokenized = nltk.tokenize.word_tokenize(sentence)\n",
    "        tokenized_sentences.append(tokenized)\n",
    "    return tokenized_sentences\n",
    "\n",
    "\n",
    "def get_tokenized_data(data):\n",
    "    sentences = split_to_sentences(data)\n",
    "    tokenized_sentences = tokenize_sentences(sentences)\n",
    "    return tokenized_sentences"
   ]
  },
  {
   "cell_type": "code",
   "execution_count": 28,
   "id": "d0ce34dd-763e-448f-bd01-78ce78805eed",
   "metadata": {
    "tags": []
   },
   "outputs": [],
   "source": [
    "tokenized_data = get_tokenized_data(file)\n",
    "bigram_counts = count_n_grams(tokenized_data, 2)"
   ]
  },
  {
   "cell_type": "code",
   "execution_count": 29,
   "id": "ded2fac5-34ae-4f64-8a58-8653316754b8",
   "metadata": {
    "tags": []
   },
   "outputs": [],
   "source": [
    "def get_bigram_prob(word, prev_word, bigram_counts, factor, threshold=5):\n",
    "    key = tuple([prev_word, word])\n",
    "    \n",
    "    # Initialize sums and occurrences\n",
    "    ksum = 0\n",
    "    occ = 0\n",
    "    for k, v in bigram_counts.items():\n",
    "        if k[0] == prev_word:\n",
    "            ksum += v\n",
    "            occ += 1\n",
    "    \n",
    "    # Check if the bigram meets the threshold\n",
    "    count = bigram_counts.get(key, 0)\n",
    "    if count < threshold:\n",
    "        return 0  # Return zero probability for bigrams below the threshold\n",
    "\n",
    "    smooth_count = count + factor\n",
    "    smooth_occ = ksum + occ * factor\n",
    "    probability = smooth_count / smooth_occ\n",
    "    return probability"
   ]
  },
  {
   "cell_type": "code",
   "execution_count": 30,
   "id": "bca0761e-1962-4d45-84cc-6c3dca293dab",
   "metadata": {
    "tags": []
   },
   "outputs": [
    {
     "data": {
      "text/plain": [
       "0.8260869565217391"
      ]
     },
     "execution_count": 30,
     "metadata": {},
     "output_type": "execute_result"
    }
   ],
   "source": [
    "get_bigram_prob('learning', 'machine', bigram_counts, 1)"
   ]
  },
  {
   "cell_type": "code",
   "execution_count": 31,
   "id": "8277dbfa-1eaf-470d-bfb7-780ff8af250f",
   "metadata": {
    "tags": []
   },
   "outputs": [
    {
     "data": {
      "text/plain": [
       "0"
      ]
     },
     "execution_count": 31,
     "metadata": {},
     "output_type": "execute_result"
    }
   ],
   "source": [
    "get_bigram_prob('machine', 'learning', bigram_counts, 1)"
   ]
  },
  {
   "cell_type": "code",
   "execution_count": 32,
   "id": "ceac6831-05e1-4fd4-b8b9-d35ea28683d1",
   "metadata": {
    "tags": []
   },
   "outputs": [],
   "source": [
    "def get_corrections_bigram(word, prev_word, probs, vocab, bigram_counts, unigram_weight=0.0, bigram_weight=1.0, n=5, verbose = False,threshold=5):\n",
    "    '''\n",
    "    Input: \n",
    "        word: a user entered string to check for suggestions\n",
    "        probs: a dictionary that maps each word to its probability in the corpus\n",
    "        vocab: a set containing all the vocabulary\n",
    "        n: number of possible word corrections you want returned in the dictionary\n",
    "    Output: \n",
    "        n_best: a list of tuples with the most probable n corrected words and their probabilities.\n",
    "    '''\n",
    "    \n",
    "    suggestions = []\n",
    "    n_best = []\n",
    "    \n",
    "   \n",
    "    if word in probs.keys():\n",
    "        suggestions.append(word)\n",
    "    for w in edit_one_letter(word):\n",
    "        if len(suggestions) == n:\n",
    "            break\n",
    "        if w in probs.keys():\n",
    "            suggestions.append(w)\n",
    "    for w in edit_two_letters(word):\n",
    "        if len(suggestions) == n:\n",
    "            break\n",
    "        if w in probs.keys():\n",
    "            suggestions.append(w)\n",
    "        \n",
    "        \n",
    "    best_words = {}\n",
    "    \n",
    "    for s in suggestions:\n",
    "        #best_words[s] = probs[s]\n",
    "        unigram_prob = probs[s]\n",
    "        #print(s)\n",
    "        try:\n",
    "            bigram_prob = get_bigram_prob(s, prev_word, bigram_counts, 1, threshold=5)\n",
    "        except:\n",
    "            bigram_prob = 0.0000000000000000001\n",
    "\n",
    "        final_score = unigram_weight*unigram_prob + bigram_weight*bigram_prob\n",
    "        \n",
    "        best_words[s] = final_score     \n",
    "        \n",
    "    best_words = sorted(best_words.items(), key=lambda x: x[1], reverse=True)\n",
    "    \n",
    "    n_best = best_words \n",
    "    \n",
    "    if verbose: print(\"entered word = \", word, \"\\nsuggestions = \", suggestions)\n",
    "\n",
    "    return n_best"
   ]
  },
  {
   "cell_type": "code",
   "execution_count": 33,
   "id": "ff2d213d-b162-47fb-9809-36ac1ea61c8c",
   "metadata": {
    "tags": []
   },
   "outputs": [],
   "source": [
    "def get_correct_word_bigram(word, prev_word, probs, vocab, bigram_counts, unigram_weight, bigram_weight, n): \n",
    "    corrections = get_corrections_bigram(word, prev_word, probs, vocab, \n",
    "                                         bigram_counts, unigram_weight, bigram_weight, n, verbose=False)\n",
    "    #print(corrections)\n",
    "    if len(corrections) == 0:\n",
    "        return word\n",
    "    \n",
    "    final_word = corrections[0][0]\n",
    "    final_prob = corrections[0][1]\n",
    "    for i, word_prob in enumerate(corrections):\n",
    "        #print(f\"word {i}: {word_prob[0]}, probability {word_prob[1]:.6f}\")\n",
    "        if word_prob[1] > final_prob:\n",
    "            final_word = word_prob[0]\n",
    "            final_prob = word_prob[1]\n",
    "    return final_word\n"
   ]
  },
  {
   "cell_type": "code",
   "execution_count": 34,
   "id": "18967ef7-a5ad-409c-8aa9-30796d9748f0",
   "metadata": {
    "tags": []
   },
   "outputs": [],
   "source": [
    "def autocorrect_bigram(sentence, vocab, probs, bigram_counts):\n",
    "    print(\"Input sentence : \", sentence)\n",
    "    wrong_words = find_wrong_word(sentence, vocab)\n",
    "    print(\"Wrong words : \", wrong_words)\n",
    "    #print(wrong_words)\n",
    "    correct_words = []\n",
    "    word_list = sentence.strip().lower().split(\" \")\n",
    "    for i, word in enumerate(word_list):\n",
    "        #print(i, word)\n",
    "        \n",
    "        #### Previous word\n",
    "        if i==0:\n",
    "            prev_word = '<s>'\n",
    "        else:\n",
    "            prev_word = word_list[i-1]\n",
    "            \n",
    "        if word in wrong_words:\n",
    "            correct_word = get_correct_word_bigram(word, prev_word, probs, vocab, bigram_counts, 0.2, 0.8, 10)\n",
    "            #print(word, correct_word)\n",
    "            word = correct_word\n",
    "        correct_words.append(word)\n",
    "    print(\"Output Sentence : \", \" \".join(correct_words).capitalize())"
   ]
  },
  {
   "cell_type": "code",
   "execution_count": 35,
   "id": "31a1ce58-b88b-4989-938c-35caa0ff8f2d",
   "metadata": {
    "tags": []
   },
   "outputs": [
    {
     "name": "stdout",
     "output_type": "stream",
     "text": [
      "Input sentence :  as a scientific endeavor machinme learning grew out of the quest for artificial intelligence\n",
      "Wrong words :  ['machinme']\n",
      "Output Sentence :  As a scientific endeavor machine learning grew out of the quest for artificial intelligence\n"
     ]
    }
   ],
   "source": [
    "autocorrect_bigram('as a scientific endeavor machinme learning grew out of the quest for artificial intelligence', vocab, probs, bigram_counts)"
   ]
  },
  {
   "cell_type": "code",
   "execution_count": 36,
   "id": "24daf74e-55bd-44ac-9f81-62fdd6ae193c",
   "metadata": {
    "tags": []
   },
   "outputs": [
    {
     "name": "stdout",
     "output_type": "stream",
     "text": [
      "Input sentence :  me best algorithm is machine learning\n",
      "Wrong words :  ['me']\n",
      "Output Sentence :  My best algorithm is machine learning\n"
     ]
    }
   ],
   "source": [
    "autocorrect_bigram('me best algorithm is machine learning', vocab, probs, bigram_counts)"
   ]
  },
  {
   "cell_type": "code",
   "execution_count": 37,
   "id": "8c4d79c1-2138-4982-94d6-649b2581ca9e",
   "metadata": {
    "tags": []
   },
   "outputs": [
    {
     "data": {
      "text/plain": [
       "59"
      ]
     },
     "execution_count": 37,
     "metadata": {},
     "output_type": "execute_result"
    }
   ],
   "source": [
    "count_bigrams = (pd.Series(nltk.ngrams(word_list, 2)).value_counts())\n",
    "len(count_bigrams[count_bigrams > 10])"
   ]
  },
  {
   "cell_type": "code",
   "execution_count": 38,
   "id": "61280089-bf5c-4af3-943d-8ccf87b3ed1e",
   "metadata": {
    "tags": []
   },
   "outputs": [],
   "source": [
    "bigrams_series = (count_bigrams)[:10]"
   ]
  },
  {
   "cell_type": "code",
   "execution_count": 39,
   "id": "3c0ff1a1-021f-4c9f-bcf9-964a043d56d7",
   "metadata": {
    "tags": []
   },
   "outputs": [
    {
     "ename": "NameError",
     "evalue": "name 'plt' is not defined",
     "output_type": "error",
     "traceback": [
      "\u001b[1;31m---------------------------------------------------------------------------\u001b[0m",
      "\u001b[1;31mNameError\u001b[0m                                 Traceback (most recent call last)",
      "Cell \u001b[1;32mIn[39], line 2\u001b[0m\n\u001b[0;32m      1\u001b[0m bigrams_series\u001b[38;5;241m.\u001b[39msort_values()\u001b[38;5;241m.\u001b[39mplot\u001b[38;5;241m.\u001b[39mbarh(color\u001b[38;5;241m=\u001b[39m\u001b[38;5;124m'\u001b[39m\u001b[38;5;124mpink\u001b[39m\u001b[38;5;124m'\u001b[39m, width\u001b[38;5;241m=\u001b[39m\u001b[38;5;241m.9\u001b[39m, figsize\u001b[38;5;241m=\u001b[39m(\u001b[38;5;241m8\u001b[39m, \u001b[38;5;241m5\u001b[39m))\n\u001b[1;32m----> 2\u001b[0m plt\u001b[38;5;241m.\u001b[39mtitle(\u001b[38;5;124m'\u001b[39m\u001b[38;5;124m10 Most Frequently Occuring Bigrams\u001b[39m\u001b[38;5;124m'\u001b[39m)\n\u001b[0;32m      3\u001b[0m plt\u001b[38;5;241m.\u001b[39mylabel(\u001b[38;5;124m'\u001b[39m\u001b[38;5;124mBigram\u001b[39m\u001b[38;5;124m'\u001b[39m)\n\u001b[0;32m      4\u001b[0m plt\u001b[38;5;241m.\u001b[39mxlabel(\u001b[38;5;124m'\u001b[39m\u001b[38;5;124m# of Occurances\u001b[39m\u001b[38;5;124m'\u001b[39m)\n",
      "\u001b[1;31mNameError\u001b[0m: name 'plt' is not defined"
     ]
    },
    {
     "data": {
      "image/png": "[encoded data removed]",
      "text/plain": [
       "<Figure size 800x500 with 1 Axes>"
      ]
     },
     "metadata": {},
     "output_type": "display_data"
    }
   ],
   "source": [
    "bigrams_series.sort_values().plot.barh(color='pink', width=.9, figsize=(8, 5))\n",
    "plt.title('10 Most Frequently Occuring Bigrams')\n",
    "plt.ylabel('Bigram')\n",
    "plt.xlabel('# of Occurances')"
   ]
  },
  {
   "cell_type": "code",
   "execution_count": 44,
   "id": "28b989ce-db68-4bcb-83dc-f57f4a9abb81",
   "metadata": {},
   "outputs": [],
   "source": [
    "def min_edit_distance(source, target, ins_cost = 1, del_cost = 1, rep_cost = 2):\n",
    "    '''\n",
    "    Input: \n",
    "        source: a string corresponding to the string you are starting with\n",
    "        target: a string corresponding to the string you want to end with\n",
    "        ins_cost: an integer setting the insert cost\n",
    "        del_cost: an integer setting the delete cost\n",
    "        rep_cost: an integer setting the replace cost\n",
    "    Output:\n",
    "        D: a matrix of len(source)+1 by len(target)+1 containing minimum edit distances\n",
    "        med: the minimum edit distance (med) required to convert the source string to the target\n",
    "    '''\n",
    "    \n",
    "    m = len(source) \n",
    "    n = len(target) \n",
    "    #initialize cost matrix with zeros and dimensions (m+1,n+1) \n",
    "    D = np.zeros((m+1, n+1), dtype=int) \n",
    "    \n",
    "    for row in range(1,m+1): \n",
    "        D[row,0] = D[row-1, 0] + del_cost\n",
    "        \n",
    "    for col in range(1,n+1):\n",
    "        D[0,col] = D[0, col-1] + ins_cost\n",
    "        \n",
    "    # Loop through row 1 to row m\n",
    "    for row in range(1,m+1): \n",
    "        # Loop through column 1 to column n\n",
    "        for col in range(1,n+1):\n",
    "            # Intialize r_cost to the 'replace' cost \n",
    "            r_cost = rep_cost\n",
    "            # Check to see if source character at the previous row\n",
    "            # matches the target character at the previous column, \n",
    "            if source[row-1] == target[col-1]:\n",
    "                # Update the replacement cost to 0 if source and target are the same\n",
    "                r_cost = 0\n",
    "            # Update the cost at row, col based on previous entries in the cost matrix\n",
    "            D[row,col] = D[row-1][col-1] + r_cost\n",
    "          \n",
    "    # Set the minimum edit distance with the cost found at row m, column n\n",
    "    med = D[m][n]\n",
    "    \n",
    "    return D, med"
   ]
  },
  {
   "cell_type": "code",
   "execution_count": 45,
   "id": "d9d094ff-52df-4767-8c36-7fe3f3d27e31",
   "metadata": {
    "tags": []
   },
   "outputs": [],
   "source": [
    "def get_correct_word_bigram_min_edit(word, prev_word, probs, vocab, bigram_counts, unigram_weight, bigram_weight, n, scale_dist): \n",
    "    corrections = get_corrections_bigram(word, prev_word, probs, vocab, \n",
    "                                         bigram_counts, unigram_weight, bigram_weight, n, verbose=False)\n",
    "    #print(corrections)\n",
    "    if len(corrections) == 0:\n",
    "        return word\n",
    "    \n",
    "    ### Make a dataframe of suggestions\n",
    "    words = []\n",
    "    probabs = []\n",
    "    dist = []\n",
    "    for pair in corrections:\n",
    "        words.append(pair[0])\n",
    "        probabs.append(pair[1])\n",
    "        _, distance = min_edit_distance(word, pair[0], 1, 1, 2)\n",
    "        dist.append(distance)\n",
    "        \n",
    "    df = pd.DataFrame({'suggestion':words, 'distance':dist, 'probability':probabs})\n",
    "    df['inv_dist'] = df['distance'].apply(lambda x : (1/x)*scale_dist)\n",
    "    df['score'] = df['inv_dist'] + df['probability']\n",
    "    df = df.sort_values(by='score', ascending=False)\n",
    "    #df = df.sort_values(by=['distance', 'probability'], ascending=[True, False])\n",
    "    #display(df)\n",
    "    \n",
    "    final_word = df.iloc[0,0]\n",
    "    \n",
    "    return final_word"
   ]
  },
  {
   "cell_type": "code",
   "execution_count": 46,
   "id": "6954172b-b6eb-4a16-98b2-8b6f9e211631",
   "metadata": {
    "tags": []
   },
   "outputs": [
    {
     "data": {
      "text/plain": [
       "'policy'"
      ]
     },
     "execution_count": 46,
     "metadata": {},
     "output_type": "execute_result"
    }
   ],
   "source": [
    "get_correct_word_bigram_min_edit('pulicy', 'best', probs, vocab, bigram_counts, 0.3, 0.7, 10, 0.001)"
   ]
  },
  {
   "cell_type": "code",
   "execution_count": 47,
   "id": "74127cd0-1e23-43d9-8b3d-88510ef50cc7",
   "metadata": {
    "tags": []
   },
   "outputs": [],
   "source": [
    "def autocorrect_bigram_min_edit(sentence, vocab, probs, bigram_probability_df, scale_dist=0.001):\n",
    "    print(\"Input sentence : \", sentence)\n",
    "    wrong_words = find_wrong_word(sentence, vocab)\n",
    "    print(\"Wrong words : \", wrong_words)\n",
    "    #print(wrong_words)\n",
    "    correct_words = []\n",
    "    word_list = sentence.strip().lower().split(\" \")\n",
    "    for i, word in enumerate(word_list):\n",
    "        #print(i, word)\n",
    "        \n",
    "        #### Previous word\n",
    "        if i==0:\n",
    "            prev_word = '<s>'\n",
    "        else:\n",
    "            prev_word = word_list[i-1]\n",
    "            \n",
    "        if word in wrong_words:\n",
    "            correct_word = get_correct_word_bigram_min_edit(word, prev_word, probs, vocab, bigram_probability_df, 0.3, 0.7, 25, scale_dist)\n",
    "            #print(word, correct_word)\n",
    "            word = correct_word\n",
    "        correct_words.append(word)\n",
    "    print(\"Output Sentence : \", \" \".join(correct_words).capitalize())"
   ]
  },
  {
   "cell_type": "code",
   "execution_count": 48,
   "id": "117ffbfa-a87a-4e23-8c2b-58c65d2fada2",
   "metadata": {
    "tags": []
   },
   "outputs": [
    {
     "name": "stdout",
     "output_type": "stream",
     "text": [
      "Input sentence :  I have acess to the lidrary\n",
      "Wrong words :  ['acess', 'lidrary']\n",
      "Output Sentence :  I have press to the library\n"
     ]
    }
   ],
   "source": [
    "autocorrect_bigram_min_edit('I have acess to the lidrary', vocab, probs, bigram_counts)"
   ]
  },
  {
   "cell_type": "code",
   "execution_count": 49,
   "id": "068040a2-7f5b-46ed-8d1b-ebfbdac6f845",
   "metadata": {},
   "outputs": [
    {
     "name": "stdout",
     "output_type": "stream",
     "text": [
      "Input sentence :  me best algorithm is machine learning\n",
      "Wrong words :  ['me']\n",
      "Output Sentence :  My best algorithm is machine learning\n"
     ]
    }
   ],
   "source": [
    "autocorrect_bigram('me best algorithm is machine learning', vocab, probs, bigram_counts)"
   ]
  },
  {
   "cell_type": "code",
   "execution_count": 50,
   "id": "77893778-0857-444d-a0eb-7ac9a941865b",
   "metadata": {
    "tags": []
   },
   "outputs": [
    {
     "name": "stdout",
     "output_type": "stream",
     "text": [
      "Input sentence :  me best algorithm is machine learning\n",
      "Wrong words :  ['me']\n",
      "Output Sentence :  My best algorithm is machine learning\n"
     ]
    }
   ],
   "source": [
    "autocorrect_bigram_min_edit('me best algorithm is machine learning', vocab, probs, bigram_counts)"
   ]
  },
  {
   "cell_type": "code",
   "execution_count": null,
   "id": "8f3ae1f6-eeb5-489b-9f95-1a691fb5e2e2",
   "metadata": {},
   "outputs": [],
   "source": []
  }
 ],
 "metadata": {
  "kernelspec": {
   "display_name": "Python 3 (ipykernel)",
   "language": "python",
   "name": "python3"
  },
  "language_info": {
   "codemirror_mode": {
    "name": "ipython",
    "version": 3
   },
   "file_extension": ".py",
   "mimetype": "text/x-python",
   "name": "python",
   "nbconvert_exporter": "python",
   "pygments_lexer": "ipython3",
   "version": "3.11.5"
  }
 },
 "nbformat": 4,
 "nbformat_minor": 5
}
