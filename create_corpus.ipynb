{
 "cells": [
  {
   "cell_type": "code",
   "execution_count": 2,
   "id": "2c0a1666-db5c-4caf-b407-56a68fdc2654",
   "metadata": {
    "tags": []
   },
   "outputs": [],
   "source": [
    "import requests\n",
    "from bs4 import BeautifulSoup\n",
    "\n",
    "# Function to scrape Wikipedia articles\n",
    "def scrape_wikipedia(topic, num_articles):\n",
    "    base_url = f\"https://en.wikipedia.org/wiki/{topic}\"\n",
    "    articles = []\n",
    "\n",
    "    for i in range(1, num_articles + 1):\n",
    "        url = f\"{base_url}_{i}\" if i > 1 else base_url\n",
    "\n",
    "        response = requests.get(url)\n",
    "        if response.status_code == 200:\n",
    "            soup = BeautifulSoup(response.text, 'html.parser')\n",
    "            # Extracting main content from the Wikipedia page\n",
    "            content = soup.find(id='mw-content-text').get_text()\n",
    "            articles.append(content)\n",
    "\n",
    "    return articles\n",
    "\n",
    "# Example usage: Scraping 3 Wikipedia articles related to 'Machine_learning'\n",
    "topic = 'Machine_learning'\n",
    "num_articles = 3\n",
    "articles = scrape_wikipedia(topic, num_articles)\n",
    "\n",
    "# Saving the scraped articles to a text file\n",
    "with open(f\"{topic}_corpus.txt\", \"w\", encoding=\"utf-8\") as file:\n",
    "    for article in articles:\n",
    "        file.write(article + '\\n\\n---NEW ARTICLE---\\n\\n')\n"
   ]
  },
  {
   "cell_type": "code",
   "execution_count": null,
   "id": "8b941edf-88f2-4668-95ab-a3898253c1d5",
   "metadata": {},
   "outputs": [],
   "source": []
  }
 ],
 "metadata": {
  "kernelspec": {
   "display_name": "Python 3 (ipykernel)",
   "language": "python",
   "name": "python3"
  },
  "language_info": {
   "codemirror_mode": {
    "name": "ipython",
    "version": 3
   },
   "file_extension": ".py",
   "mimetype": "text/x-python",
   "name": "python",
   "nbconvert_exporter": "python",
   "pygments_lexer": "ipython3",
   "version": "3.11.5"
  }
 },
 "nbformat": 4,
 "nbformat_minor": 5
}
